{
 "cells": [
  {
   "cell_type": "code",
   "execution_count": 2,
   "outputs": [],
   "source": [
    "import matplotlib.pyplot as plt\n",
    "from PIL import Image, ImageSequence\n",
    "from dcgan import Generator\n",
    "import torch\n",
    "import torchvision.transforms as transforms\n",
    "from torchvision.utils import save_image\n",
    "import cv2\n",
    "import numpy as np\n",
    "import imageio"
   ],
   "metadata": {
    "collapsed": false,
    "pycharm": {
     "name": "#%%\n"
    }
   }
  },
  {
   "cell_type": "code",
   "execution_count": 3,
   "outputs": [
    {
     "data": {
      "text/plain": "<All keys matched successfully>"
     },
     "execution_count": 3,
     "metadata": {},
     "output_type": "execute_result"
    }
   ],
   "source": [
    "generator = Generator(latent_dim=100,out_chan=3)\n",
    "generator.load_state_dict(torch.load('face_generator2.pt'))"
   ],
   "metadata": {
    "collapsed": false,
    "pycharm": {
     "name": "#%%\n"
    }
   }
  },
  {
   "cell_type": "code",
   "execution_count": null,
   "outputs": [],
   "source": [
    "noise1 = torch.randn(1, 100, 1, 1)"
   ],
   "metadata": {
    "collapsed": false,
    "pycharm": {
     "name": "#%%\n"
    }
   }
  },
  {
   "cell_type": "code",
   "execution_count": null,
   "outputs": [],
   "source": [
    "noise2 = torch.randn(1, 100, 1, 1)"
   ],
   "metadata": {
    "collapsed": false,
    "pycharm": {
     "name": "#%%\n"
    }
   }
  },
  {
   "cell_type": "code",
   "execution_count": null,
   "outputs": [],
   "source": [
    "fake1 = generator(noise1)"
   ],
   "metadata": {
    "collapsed": false,
    "pycharm": {
     "name": "#%%\n"
    }
   }
  },
  {
   "cell_type": "code",
   "execution_count": null,
   "outputs": [],
   "source": [
    "fake2 = generator(noise2)\n"
   ],
   "metadata": {
    "collapsed": false,
    "pycharm": {
     "name": "#%%\n"
    }
   }
  },
  {
   "cell_type": "code",
   "execution_count": null,
   "outputs": [],
   "source": [
    "save_image(fake1,'image_test/1.png', normalize=True)"
   ],
   "metadata": {
    "collapsed": false,
    "pycharm": {
     "name": "#%%\n"
    }
   }
  },
  {
   "cell_type": "code",
   "execution_count": null,
   "outputs": [],
   "source": [
    "save_image(fake2,'image_test/2.png', normalize=True)"
   ],
   "metadata": {
    "collapsed": false,
    "pycharm": {
     "name": "#%%\n"
    }
   }
  },
  {
   "cell_type": "code",
   "execution_count": null,
   "outputs": [],
   "source": [
    "fig_fake,axis_fake = plt.subplots(1,2,figsize=(128,64))\n",
    "img1 = Image.open('image_test/1.png')\n",
    "img2 = Image.open('image_test/2.png')\n",
    "axis_fake[0].imshow(img1)\n",
    "axis_fake[1].imshow(img2)\n",
    "plt.show()"
   ],
   "metadata": {
    "collapsed": false,
    "pycharm": {
     "name": "#%%\n"
    }
   }
  },
  {
   "cell_type": "code",
   "execution_count": null,
   "outputs": [],
   "source": [
    "torch.save(noise1,'boy1.pt')\n",
    "torch.save(noise2,'girl1.pt')"
   ],
   "metadata": {
    "collapsed": false,
    "pycharm": {
     "name": "#%%\n"
    }
   }
  },
  {
   "cell_type": "markdown",
   "source": [
    "### Interpolation"
   ],
   "metadata": {
    "collapsed": false
   }
  },
  {
   "cell_type": "code",
   "execution_count": 4,
   "outputs": [],
   "source": [
    "boy1 = torch.load('boy1.pt')\n",
    "girl1 = torch.load('girl1.pt')\n",
    "noise_lst = []\n",
    "num = 9\n",
    "for i in range(num):\n",
    "    noise = (i * boy1 + (num-i) * girl1)/num\n",
    "    noise_lst.append(noise)"
   ],
   "metadata": {
    "collapsed": false,
    "pycharm": {
     "name": "#%%\n"
    }
   }
  },
  {
   "cell_type": "code",
   "execution_count": 5,
   "outputs": [],
   "source": [
    "# img_lst=[]\n",
    "for i in range(num):\n",
    "    img = generator(noise_lst[i]).squeeze()\n",
    "    # img_lst.append(img)\n",
    "    save_image(img,'images/boy2girl{}.png'.format(i),normalize=True)"
   ],
   "metadata": {
    "collapsed": false,
    "pycharm": {
     "name": "#%%\n"
    }
   }
  },
  {
   "cell_type": "markdown",
   "source": [
    "### Resize the image"
   ],
   "metadata": {
    "collapsed": false
   }
  },
  {
   "cell_type": "code",
   "execution_count": 6,
   "outputs": [],
   "source": [
    "for i in range(num):\n",
    "    img1 = cv2.imread('images/boy2girl{}.png'.format(i),cv2.IMREAD_UNCHANGED)\n",
    "    # img1 = np.array(img1)\n",
    "    resized1 = cv2.resize(img1,(512,512),interpolation=cv2.INTER_LINEAR)\n",
    "    cv2.imwrite('images/boy2girl{}.png'.format(i),resized1)"
   ],
   "metadata": {
    "collapsed": false,
    "pycharm": {
     "name": "#%%\n"
    }
   }
  },
  {
   "cell_type": "code",
   "execution_count": 7,
   "outputs": [],
   "source": [
    "def create_gif(image_list, gif_name, duration=0.35):\n",
    "    frames = []\n",
    "    for image_name in image_list:\n",
    "        frames.append(imageio.imread(image_name))\n",
    "    imageio.mimsave(gif_name, frames, 'GIF', duration=duration)\n",
    "    return"
   ],
   "metadata": {
    "collapsed": false,
    "pycharm": {
     "name": "#%%\n"
    }
   }
  },
  {
   "cell_type": "markdown",
   "source": [
    "### Create GIF using a stack and save"
   ],
   "metadata": {
    "collapsed": false
   }
  },
  {
   "cell_type": "code",
   "execution_count": 8,
   "outputs": [],
   "source": [
    "img_lst = []\n",
    "for i in range(num):\n",
    "    img_lst.append('images/boy2girl{}.png'.format(i))\n",
    "gif_name = 'images/boy2girl.gif'\n",
    "duration = 0.35\n",
    "create_gif(img_lst, gif_name, duration)"
   ],
   "metadata": {
    "collapsed": false,
    "pycharm": {
     "name": "#%%\n"
    }
   }
  },
  {
   "cell_type": "markdown",
   "source": [
    "### Show GIF in another window"
   ],
   "metadata": {
    "collapsed": false
   }
  },
  {
   "cell_type": "code",
   "execution_count": 10,
   "outputs": [],
   "source": [
    "gif = Image.open('images/boy2girl.gif')\n",
    "for frame in ImageSequence.Iterator(gif):\n",
    "    img = frame.convert('RGB')\n",
    "    img_np = np.array(img)\n",
    "    img_sh = cv2.cvtColor(img_np,cv2.COLOR_RGB2BGR)\n",
    "    cv2.imshow('girl2boy',img_sh)\n",
    "    cv2.waitKey(200)"
   ],
   "metadata": {
    "collapsed": false,
    "pycharm": {
     "name": "#%%\n"
    }
   }
  },
  {
   "cell_type": "markdown",
   "source": [
    "![image](https://github.com/CindyChow123/FaceInterpolation_deep_learning_2021_spring/blob/master/images/boy2girl.gif)"
   ],
   "metadata": {
    "collapsed": false,
    "pycharm": {
     "name": "#%% md\n"
    }
   }
  }
 ],
 "metadata": {
  "kernelspec": {
   "display_name": "Python 3",
   "language": "python",
   "name": "python3"
  },
  "language_info": {
   "codemirror_mode": {
    "name": "ipython",
    "version": 2
   },
   "file_extension": ".py",
   "mimetype": "text/x-python",
   "name": "python",
   "nbconvert_exporter": "python",
   "pygments_lexer": "ipython2",
   "version": "2.7.6"
  }
 },
 "nbformat": 4,
 "nbformat_minor": 0
}